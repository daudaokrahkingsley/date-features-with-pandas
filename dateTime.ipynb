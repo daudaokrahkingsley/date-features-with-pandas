{
 "cells": [
  {
   "cell_type": "code",
   "execution_count": 1,
   "id": "9171ca56-26df-4096-aa74-a1573db77f8c",
   "metadata": {},
   "outputs": [],
   "source": [
    "import pandas as pd"
   ]
  },
  {
   "cell_type": "code",
   "execution_count": 3,
   "id": "de5751a6-e3cc-4d72-a154-c9c71bb90cb1",
   "metadata": {},
   "outputs": [],
   "source": [
    "file = \"online_retail_II.xlsx\""
   ]
  },
  {
   "cell_type": "code",
   "execution_count": null,
   "id": "40169f8b-672f-4e03-adfd-e7909431fe66",
   "metadata": {},
   "outputs": [],
   "source": [
    "df_1 =pd.read_excel(file, sheet_name=\"Year 2009-2010\")\n",
    "df_1 =pd.read_excel(file, sheet_name=\"Year 2010-2011\")\n",
    "data = pd.concat([df_1, df_2])\n",
    "print(data.shape)\n",
    "data.head"
   ]
  },
  {
   "cell_type": "code",
   "execution_count": null,
   "id": "73601150-aa48-4eab-a4b9-7548c430a760",
   "metadata": {},
   "outputs": [],
   "source": [
    "data.head"
   ]
  },
  {
   "cell_type": "code",
   "execution_count": null,
   "id": "2f0964de-53f5-4a1c-8b1f-804cc1705a2e",
   "metadata": {},
   "outputs": [],
   "source": []
  }
 ],
 "metadata": {
  "kernelspec": {
   "display_name": "Python 3",
   "language": "python",
   "name": "python3"
  },
  "language_info": {
   "codemirror_mode": {
    "name": "ipython",
    "version": 3
   },
   "file_extension": ".py",
   "mimetype": "text/x-python",
   "name": "python",
   "nbconvert_exporter": "python",
   "pygments_lexer": "ipython3",
   "version": "3.8.8"
  }
 },
 "nbformat": 4,
 "nbformat_minor": 5
}
